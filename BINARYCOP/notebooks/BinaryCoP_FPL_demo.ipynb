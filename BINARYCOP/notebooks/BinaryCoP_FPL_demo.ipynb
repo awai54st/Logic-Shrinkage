{
 "cells": [
  {
   "cell_type": "markdown",
   "metadata": {},
   "source": [
    "# FPL 2022\n",
    "### 32nd International Conference on Field Programmable Logic and Applications"
   ]
  },
  {
   "cell_type": "markdown",
   "metadata": {},
   "source": [
    "## Demo 1: µ-CNV model classifying facial-mask wearing and positioning on Pynq using ReBNet (BNN SOTA with two-level residual binarization)"
   ]
  },
  {
   "cell_type": "code",
   "execution_count": null,
   "metadata": {},
   "outputs": [],
   "source": [
    "import bnn\n",
    "classifier = bnn.CnvClassifier('mucnv-bincop', network=bnn.NETWORK_MUCNV_BINCOP, load_mem=False)"
   ]
  },
  {
   "cell_type": "code",
   "execution_count": null,
   "metadata": {},
   "outputs": [],
   "source": [
    "from PIL import Image\n",
    "import numpy as np\n",
    "\n",
    "ims = []\n",
    "labels = [0,1,2,3]\n",
    "ims.append(Image.open('/home/xilinx/jupyter_notebooks/notebook/pictures/9.jpg'))\n",
    "ims.append(Image.open('/home/xilinx/jupyter_notebooks/notebook/pictures/8.jpg'))\n",
    "ims.append(Image.open('/home/xilinx/jupyter_notebooks/notebook/pictures/7.jpg'))\n",
    "ims.append(Image.open('/home/xilinx/jupyter_notebooks/notebook/pictures/10.jpg'))"
   ]
  },
  {
   "cell_type": "code",
   "execution_count": null,
   "metadata": {},
   "outputs": [],
   "source": [
    "from IPython.display import display\n",
    "\n",
    "classifications = []\n",
    "golden = []\n",
    "for i in range(4):\n",
    "    im = ims[i]\n",
    "    im.thumbnail((64, 64), Image.ANTIALIAS)\n",
    "    display(im) \n",
    "    classification = classifier.classify_image_details(im)\n",
    "    classifications.append(classification)\n",
    "    golden.append(classifier.bnn.classes[labels[i]])\n",
    "    print(\"Hardware output: {0}\".format(classification))\n",
    "    print(\"Detected class: {0}\".format(classifier.bnn.classes[np.argmax(classification)]))\n",
    "    print(\"Golden class: {0}\".format(classifier.bnn.classes[labels[i]]))"
   ]
  },
  {
   "cell_type": "code",
   "execution_count": null,
   "metadata": {},
   "outputs": [],
   "source": [
    "labels = []\n",
    "with open(\"/home/xilinx/jupyter_notebooks/test_bincop_0.bin\", \"rb\") as file:\n",
    "    #for 10000 pictures\n",
    "    for i in range(7304):\n",
    "        #read first byte -> label\n",
    "        label = int.from_bytes(file.read(1), byteorder=\"big\")\n",
    "        labels.append(label)\n",
    "        #read image (3072 bytes) and do nothing with it\n",
    "        file.read(3072)\n",
    "    file.close()\n",
    "with open(\"/home/xilinx/jupyter_notebooks/test_bincop_1.bin\", \"rb\") as file:\n",
    "    #for 10000 pictures\n",
    "    for i in range(7602):\n",
    "        #read first byte -> label\n",
    "        label = int.from_bytes(file.read(1), byteorder=\"big\")\n",
    "        labels.append(label)\n",
    "        #read image (3072 bytes) and do nothing with it\n",
    "        file.read(3072)\n",
    "    file.close()\n",
    "with open(\"/home/xilinx/jupyter_notebooks/test_bincop_2.bin\", \"rb\") as file:\n",
    "    #for 10000 pictures\n",
    "    for i in range(5887):\n",
    "        #read first byte -> label\n",
    "        label = int.from_bytes(file.read(1), byteorder=\"big\")\n",
    "        labels.append(label)\n",
    "        #read image (3072 bytes) and do nothing with it\n",
    "        file.read(3072)\n",
    "    file.close()\n",
    "with open(\"/home/xilinx/jupyter_notebooks/test_bincop_3.bin\", \"rb\") as file:\n",
    "    #for 10000 pictures\n",
    "    for i in range(7304):\n",
    "        #read first byte -> label\n",
    "        label = int.from_bytes(file.read(1), byteorder=\"big\")\n",
    "        labels.append(label)\n",
    "        #read image (3072 bytes) and do nothing with it\n",
    "        file.read(3072)\n",
    "    file.close()"
   ]
  },
  {
   "cell_type": "code",
   "execution_count": null,
   "metadata": {},
   "outputs": [],
   "source": [
    "result_0 = list(classifier.classify_cifars(\"/home/xilinx/jupyter_notebooks/test_bincop_0.bin\"))\n",
    "result_1 = list(classifier.classify_cifars(\"/home/xilinx/jupyter_notebooks/test_bincop_1.bin\"))\n",
    "result_2 = list(classifier.classify_cifars(\"/home/xilinx/jupyter_notebooks/test_bincop_2.bin\"))\n",
    "result_3 = list(classifier.classify_cifars(\"/home/xilinx/jupyter_notebooks/test_bincop_3.bin\"))\n",
    "result = result_0 + result_1 + result_2 + result_3"
   ]
  },
  {
   "cell_type": "code",
   "execution_count": null,
   "metadata": {},
   "outputs": [],
   "source": [
    "#compare against labels\n",
    "countRight = 0\n",
    "for idx in range(len(labels)):\n",
    "    if labels[idx] == result[idx]:\n",
    "        countRight += 1\n",
    "accuracy = countRight*100/len(labels)\n",
    "\n",
    "print(\"Accuracy after validation with TensorFlow: 95.33%\")\n",
    "print(\"Accuracy on board: \",round(accuracy,2),\"%\")"
   ]
  },
  {
   "cell_type": "code",
   "execution_count": null,
   "metadata": {},
   "outputs": [],
   "source": [
    "#compare against labels\n",
    "countRight = [0,0,0,0]\n",
    "for idx in range(len(result_0)):\n",
    "    if 0 == result_0[idx]:\n",
    "        countRight[0] += 1\n",
    "print(\"Accuracy class 0: \",countRight[0]*100/len(result_0),\"%\")\n",
    "\n",
    "#compare against labels\n",
    "for idx in range(len(result_1)):\n",
    "    if 1 == result_1[idx]:\n",
    "        countRight[1] += 1\n",
    "print(\"Accuracy class 1: \",countRight[1]*100/len(result_1),\"%\")\n",
    "\n",
    "#compare against labels\n",
    "for idx in range(len(result_2)):\n",
    "    if 2 == result_2[idx]:\n",
    "        countRight[2] += 1\n",
    "print(\"Accuracy class 2: \",countRight[2]*100/len(result_2),\"%\")\n",
    "\n",
    "#compare against labels\n",
    "for idx in range(len(result_3)):\n",
    "    if 3 == result_3[idx]:\n",
    "        countRight[3] += 1\n",
    "print(\"Accuracy class 3: \",countRight[3]*100/len(result_3),\"%\")"
   ]
  },
  {
   "cell_type": "markdown",
   "metadata": {},
   "source": [
    "## Reseting the device"
   ]
  },
  {
   "cell_type": "markdown",
   "metadata": {},
   "source": [
    "## Demo 2: µ-CNV model classifying facial-mask wearing and positioning on Pynq using LUTNet with Logic Shrinkage applied to the last convolutional layer"
   ]
  },
  {
   "cell_type": "code",
   "execution_count": null,
   "metadata": {},
   "outputs": [],
   "source": [
    "import bnn\n",
    "classifier = bnn.CnvClassifier('mucnvls-bincop', network=bnn.NETWORK_MUCNVLS_BINCOP, load_mem=False)"
   ]
  },
  {
   "cell_type": "code",
   "execution_count": null,
   "metadata": {},
   "outputs": [],
   "source": [
    "from PIL import Image\n",
    "import numpy as np\n",
    "\n",
    "ims = []\n",
    "labels = [0,1,2,3]\n",
    "ims.append(Image.open('/home/xilinx/jupyter_notebooks/notebook/pictures/9.jpg'))\n",
    "ims.append(Image.open('/home/xilinx/jupyter_notebooks/notebook/pictures/8.jpg'))\n",
    "ims.append(Image.open('/home/xilinx/jupyter_notebooks/notebook/pictures/7.jpg'))\n",
    "ims.append(Image.open('/home/xilinx/jupyter_notebooks/notebook/pictures/10.jpg'))"
   ]
  },
  {
   "cell_type": "code",
   "execution_count": null,
   "metadata": {},
   "outputs": [],
   "source": [
    "from IPython.display import display\n",
    "\n",
    "classifications = []\n",
    "golden = []\n",
    "for i in range(4):\n",
    "    im = ims[i]\n",
    "    im.thumbnail((64, 64), Image.ANTIALIAS)\n",
    "    display(im) \n",
    "    classification = classifier.classify_image_details(im)\n",
    "    classifications.append(classification)\n",
    "    golden.append(classifier.bnn.classes[labels[i]])\n",
    "    print(\"Hardware output: {0}\".format(classification))\n",
    "    print(\"Detected class: {0}\".format(classifier.bnn.classes[np.argmax(classification)]))\n",
    "    print(\"Golden class: {0}\".format(classifier.bnn.classes[labels[i]]))"
   ]
  },
  {
   "cell_type": "code",
   "execution_count": null,
   "metadata": {},
   "outputs": [],
   "source": [
    "labels = []\n",
    "with open(\"/home/xilinx/jupyter_notebooks/test_bincop_0.bin\", \"rb\") as file:\n",
    "    #for 10000 pictures\n",
    "    for i in range(7304):\n",
    "        #read first byte -> label\n",
    "        label = int.from_bytes(file.read(1), byteorder=\"big\")\n",
    "        if label != 0:\n",
    "            print(label)\n",
    "        labels.append(label)\n",
    "        #read image (3072 bytes) and do nothing with it\n",
    "        file.read(3072)\n",
    "    file.close()\n",
    "with open(\"/home/xilinx/jupyter_notebooks/test_bincop_1.bin\", \"rb\") as file:\n",
    "    #for 10000 pictures\n",
    "    for i in range(7602):\n",
    "        #read first byte -> label\n",
    "        label = int.from_bytes(file.read(1), byteorder=\"big\")\n",
    "        if label != 1:\n",
    "            print(label)\n",
    "        labels.append(label)\n",
    "        #read image (3072 bytes) and do nothing with it\n",
    "        file.read(3072)\n",
    "    file.close()\n",
    "with open(\"/home/xilinx/jupyter_notebooks/test_bincop_2.bin\", \"rb\") as file:\n",
    "    #for 10000 pictures\n",
    "    for i in range(5887):\n",
    "        #read first byte -> label\n",
    "        label = int.from_bytes(file.read(1), byteorder=\"big\")\n",
    "        if label != 2:\n",
    "            print(label)\n",
    "        labels.append(label)\n",
    "        #read image (3072 bytes) and do nothing with it\n",
    "        file.read(3072)\n",
    "    file.close()\n",
    "with open(\"/home/xilinx/jupyter_notebooks/test_bincop_3.bin\", \"rb\") as file:\n",
    "    #for 10000 pictures\n",
    "    for i in range(7304):\n",
    "        #read first byte -> label\n",
    "        label = int.from_bytes(file.read(1), byteorder=\"big\")\n",
    "        if label != 3:\n",
    "            print(label)\n",
    "        labels.append(label)\n",
    "        #read image (3072 bytes) and do nothing with it\n",
    "        file.read(3072)\n",
    "    file.close()"
   ]
  },
  {
   "cell_type": "code",
   "execution_count": null,
   "metadata": {},
   "outputs": [],
   "source": [
    "result_0 = list(classifier.classify_cifars(\"/home/xilinx/jupyter_notebooks/test_bincop_0.bin\"))\n",
    "result_1 = list(classifier.classify_cifars(\"/home/xilinx/jupyter_notebooks/test_bincop_1.bin\"))\n",
    "result_2 = list(classifier.classify_cifars(\"/home/xilinx/jupyter_notebooks/test_bincop_2.bin\"))\n",
    "result_3 = list(classifier.classify_cifars(\"/home/xilinx/jupyter_notebooks/test_bincop_3.bin\"))\n",
    "result = result_0 + result_1 + result_2 + result_3"
   ]
  },
  {
   "cell_type": "code",
   "execution_count": null,
   "metadata": {},
   "outputs": [],
   "source": [
    "#compare against labels\n",
    "countRight = 0\n",
    "for idx in range(len(labels)):\n",
    "    if labels[idx] == result[idx]:\n",
    "        countRight += 1\n",
    "accuracy = countRight*100/len(labels)\n",
    "\n",
    "print(\"Accuracy after validation with TensorFlow: 92.41%\")\n",
    "print(\"Accuracy on board: \",round(accuracy,2),\"%\")"
   ]
  },
  {
   "cell_type": "code",
   "execution_count": null,
   "metadata": {},
   "outputs": [],
   "source": [
    "#compare against labels\n",
    "countRight = [0,0,0,0]\n",
    "for idx in range(len(result_0)):\n",
    "    if 0 == result_0[idx]:\n",
    "        countRight[0] += 1\n",
    "print(\"Accuracy class 0: \",countRight[0]*100/len(result_0),\"%\")\n",
    "\n",
    "#compare against labels\n",
    "for idx in range(len(result_1)):\n",
    "    if 1 == result_1[idx]:\n",
    "        countRight[1] += 1\n",
    "print(\"Accuracy class 1: \",countRight[1]*100/len(result_1),\"%\")\n",
    "\n",
    "#compare against labels\n",
    "for idx in range(len(result_2)):\n",
    "    if 2 == result_2[idx]:\n",
    "        countRight[2] += 1\n",
    "print(\"Accuracy class 2: \",countRight[2]*100/len(result_2),\"%\")\n",
    "\n",
    "#compare against labels\n",
    "for idx in range(len(result_3)):\n",
    "    if 3 == result_3[idx]:\n",
    "        countRight[3] += 1\n",
    "print(\"Accuracy class 3: \",countRight[3]*100/len(result_3),\"%\")"
   ]
  }
 ],
 "metadata": {
  "kernelspec": {
   "display_name": "Python 3",
   "language": "python",
   "name": "python3"
  },
  "language_info": {
   "codemirror_mode": {
    "name": "ipython",
    "version": 3
   },
   "file_extension": ".py",
   "mimetype": "text/x-python",
   "name": "python",
   "nbconvert_exporter": "python",
   "pygments_lexer": "ipython3",
   "version": "3.6.5"
  }
 },
 "nbformat": 4,
 "nbformat_minor": 1
}
